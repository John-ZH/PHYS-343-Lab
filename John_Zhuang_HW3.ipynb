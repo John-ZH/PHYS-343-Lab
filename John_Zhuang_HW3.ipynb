{
 "cells": [
  {
   "cell_type": "markdown",
   "metadata": {},
   "source": [
    "# HW3"
   ]
  },
  {
   "cell_type": "markdown",
   "metadata": {},
   "source": [
    "## Problem 1"
   ]
  },
  {
   "cell_type": "markdown",
   "metadata": {},
   "source": [
    "### a) \n",
    "The **NN** algorithm makes the fewest mistakes, as it has 8 miscategorization while NA has 12."
   ]
  },
  {
   "cell_type": "markdown",
   "metadata": {},
   "source": [
    "### b) \n",
    "The **NA** algorithm is better for the zoo because it has the smallest false person identification."
   ]
  },
  {
   "cell_type": "markdown",
   "metadata": {},
   "source": [
    "### c)\n",
    "Assume we still have 100 photos for each algorithm:"
   ]
  },
  {
   "cell_type": "markdown",
   "metadata": {},
   "source": [
    "|           | True Bird | True Person |\n",
    "|-----------|-----------|-------------|\n",
    "| NN Bird   | 93        | 0           |\n",
    "| NN Person | 6         | 1           | "
   ]
  },
  {
   "cell_type": "markdown",
   "metadata": {},
   "source": [
    "|           | True Bird | True Person |\n",
    "|-----------|-----------|-------------|\n",
    "| NA Bird   | 97        | 0           |\n",
    "| NA Person | 2         | 1           | "
   ]
  },
  {
   "cell_type": "markdown",
   "metadata": {},
   "source": [
    "## Problem 2"
   ]
  },
  {
   "cell_type": "markdown",
   "metadata": {},
   "source": [
    "### 2a)"
   ]
  },
  {
   "cell_type": "markdown",
   "metadata": {},
   "source": [
    "The pdf of an exponential distribution is $f(x) = \\lambda xe^{-\\lambda x}$"
   ]
  },
  {
   "cell_type": "markdown",
   "metadata": {},
   "source": [
    "This Wikipedia section of [Exponential distribution](https://en.wikipedia.org/wiki/Exponential_distribution#Sum_of_two_independent_exponential_random_variables) shows us that the sum of two exponential distribution pdf is the pdf of an [Erlang distribution](https://en.wikipedia.org/wiki/Erlang_distribution) of shape 2 and parameter $\\lambda$, or a special case of [Gamma distribution](https://en.wikipedia.org/wiki/Gamma_distribution)."
   ]
  },
  {
   "cell_type": "markdown",
   "metadata": {},
   "source": [
    "Or $f(x) = \\lambda^2 xe^{-\\lambda x}$ "
   ]
  },
  {
   "cell_type": "markdown",
   "metadata": {},
   "source": [
    "### 2b)"
   ]
  },
  {
   "cell_type": "markdown",
   "metadata": {},
   "source": [
    "This Wikipedia section for [Normal distribution](https://en.wikipedia.org/wiki/Normal_distribution#Combination_of_two_independent_random_variables) tells us that the ratio of the pdf of two zero-mean, unity-variance normal distribution is the [Cauchy distribution](https://en.wikipedia.org/wiki/Cauchy_distribution)."
   ]
  },
  {
   "cell_type": "markdown",
   "metadata": {},
   "source": [
    "### 2c)"
   ]
  },
  {
   "cell_type": "markdown",
   "metadata": {},
   "source": [
    "An 2D Gaussian distribution pdf with both X and Y drawn from 1-D Gaussian distributions with the vector amplitude $P = \\sqrt{P_X(x)^2 + P_y(y)^2}$"
   ]
  },
  {
   "cell_type": "markdown",
   "metadata": {},
   "source": [
    "Squaring the pdf of the Gaussian distribution gives a pdf of the Chi-Squared distribution, and summing two pdfs of Chi-Squared distributions is another pdf of Chi-Squared distribution.\n",
    "Squarooting the pdf of Chi-Squared distribution gives us the pdf of the Gaussian distribution.\n",
    "\n",
    "So the pdf of the amplitude of the vector is a **Gaussian distribution**."
   ]
  },
  {
   "cell_type": "code",
   "execution_count": null,
   "metadata": {},
   "outputs": [],
   "source": []
  }
 ],
 "metadata": {
  "kernelspec": {
   "display_name": "Python 3",
   "language": "python",
   "name": "python3"
  },
  "language_info": {
   "codemirror_mode": {
    "name": "ipython",
    "version": 3
   },
   "file_extension": ".py",
   "mimetype": "text/x-python",
   "name": "python",
   "nbconvert_exporter": "python",
   "pygments_lexer": "ipython3",
   "version": "3.7.4"
  }
 },
 "nbformat": 4,
 "nbformat_minor": 4
}
