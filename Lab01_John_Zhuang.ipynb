{
 "cells": [
  {
   "cell_type": "code",
   "execution_count": 2,
   "metadata": {},
   "outputs": [],
   "source": [
    "import numpy as np\n",
    "import matplotlib\n",
    "import matplotlib.pyplot as plt\n",
    "import scipy\n",
    "from scipy import stats"
   ]
  },
  {
   "cell_type": "code",
   "execution_count": 2,
   "metadata": {},
   "outputs": [],
   "source": [
    "#this sets the size of the plot to something useful\n",
    "#plt.rcParams[\"figure.figsize\"] = (15,10)"
   ]
  },
  {
   "cell_type": "markdown",
   "metadata": {},
   "source": [
    "# Part 1\n",
    "\n",
    "## A.\n",
    "  A normal distribution is a case where data is centered around a particular value with no biases left or right. Many real-word datasets are close to this distribution, if not identical.\n",
    "  \n",
    "## B."
   ]
  },
  {
   "cell_type": "code",
   "execution_count": 261,
   "metadata": {},
   "outputs": [
    {
     "data": {
      "text/plain": [
       "0.8413447460685429"
      ]
     },
     "execution_count": 261,
     "metadata": {},
     "output_type": "execute_result"
    }
   ],
   "source": [
    "# 1-sigma\n",
    "cdf1 = stats.norm.cdf(1, loc=0, scale=1)\n",
    "cdf1\n",
    "# Z table value for 1.00 is 0.84134 (68% + 16% tail on left side)"
   ]
  },
  {
   "cell_type": "code",
   "execution_count": 260,
   "metadata": {},
   "outputs": [
    {
     "data": {
      "text/plain": [
       "0.9772498680518208"
      ]
     },
     "execution_count": 260,
     "metadata": {},
     "output_type": "execute_result"
    }
   ],
   "source": [
    "# 2-sigma\n",
    "cdf2 = stats.norm.cdf(2, loc=0, scale=1)\n",
    "cdf2\n",
    "# Z table value for 2.00 is 0.97725 (95% + 2.5% tail on left side)"
   ]
  },
  {
   "cell_type": "code",
   "execution_count": 265,
   "metadata": {},
   "outputs": [
    {
     "data": {
      "text/plain": [
       "0.9999683287581669"
      ]
     },
     "execution_count": 265,
     "metadata": {},
     "output_type": "execute_result"
    }
   ],
   "source": [
    "# 4-sigma\n",
    "cdf4 = stats.norm.cdf(4, loc=0, scale=1)\n",
    "cdf4\n",
    "# Z table value for 4.00 is 0.99997 (99.7% + 0.15% tail on left side)"
   ]
  },
  {
   "cell_type": "markdown",
   "metadata": {},
   "source": [
    "We tried 3 interger-sigma values, and all of the answers matched both the z-table values and our understanding of standard deviation.\n",
    "\n",
    "Since cdf integrates the graph from -inf to the sigma values, the integral is slighly larger than the numbers used for standard deviation. (68%: 1-sigma, 95%: 2-sigma, etc)"
   ]
  },
  {
   "cell_type": "markdown",
   "metadata": {},
   "source": [
    "## C"
   ]
  },
  {
   "cell_type": "code",
   "execution_count": 266,
   "metadata": {},
   "outputs": [
    {
     "data": {
      "text/plain": [
       "0.9999803859660787"
      ]
     },
     "execution_count": 266,
     "metadata": {},
     "output_type": "execute_result"
    }
   ],
   "source": [
    "#Z-table value for 1-sigma\n",
    "ppf1 = stats.norm.ppf(0.84134, loc=0, scale=1)\n",
    "ppf1"
   ]
  },
  {
   "cell_type": "code",
   "execution_count": 267,
   "metadata": {},
   "outputs": [
    {
     "data": {
      "text/plain": [
       "2.0000024438996027"
      ]
     },
     "execution_count": 267,
     "metadata": {},
     "output_type": "execute_result"
    }
   ],
   "source": [
    "#Z-table value for 2-sigma\n",
    "ppf2 = stats.norm.ppf(0.97725, loc=0, scale=1)\n",
    "ppf2"
   ]
  },
  {
   "cell_type": "code",
   "execution_count": 276,
   "metadata": {},
   "outputs": [
    {
     "data": {
      "text/plain": [
       "4.991217139937879"
      ]
     },
     "execution_count": 276,
     "metadata": {},
     "output_type": "execute_result"
    }
   ],
   "source": [
    "#Z-table value for 5-sigma\n",
    "\n",
    "ppf4 = stats.norm.ppf((1 - 3 * 10 ** (-7)), loc=0, scale=1)\n",
    "ppf4"
   ]
  },
  {
   "cell_type": "markdown",
   "metadata": {},
   "source": [
    "As shown above, the Z-table values for 1,2, and 4 sigmas matches the predicted sigma values. (computational results are off by a little bit due to rounding errors)"
   ]
  },
  {
   "cell_type": "markdown",
   "metadata": {},
   "source": [
    "## D"
   ]
  },
  {
   "cell_type": "code",
   "execution_count": 269,
   "metadata": {},
   "outputs": [
    {
     "data": {
      "text/plain": [
       "-0.02506890825871106"
      ]
     },
     "execution_count": 269,
     "metadata": {},
     "output_type": "execute_result"
    }
   ],
   "source": [
    "#What's the sigma value for 49%?\n",
    "ppf4 = stats.norm.ppf(0.490, loc=0, scale=1)\n",
    "ppf4"
   ]
  },
  {
   "cell_type": "markdown",
   "metadata": {},
   "source": [
    "A minus sign appears when the integral is less than 0.5 (the percentage is less than 50%), which tells us the percentage we have is some standard deviation **below** the average, where as the positive sign shows how much standard deviation **above average**.\n",
    "\n",
    "This happens because the normal distribution is symmetrical about the average and a 50% percentile is exactly where the average is."
   ]
  },
  {
   "cell_type": "markdown",
   "metadata": {},
   "source": [
    "# 2\n",
    "## A\n",
    "I'm doing Exponential Distribution.\n",
    "\n",
    "An exponential distribution is a distribution where the data histogram (mostly) follows a logrithmic curve $f(x) = \\lambda e^{-\\lambda x}$. (or a straight line in semi-log graphs)"
   ]
  },
  {
   "cell_type": "markdown",
   "metadata": {},
   "source": [
    "## B"
   ]
  },
  {
   "cell_type": "code",
   "execution_count": 278,
   "metadata": {},
   "outputs": [],
   "source": [
    "#Exponential distribution\n",
    "d_expon = stats.expon.rvs(loc = 0., scale = 0.01, size = 100000)"
   ]
  },
  {
   "cell_type": "code",
   "execution_count": 46,
   "metadata": {},
   "outputs": [],
   "source": [
    "#this sets the size of the plot to something useful\n",
    "plt.rcParams[\"figure.figsize\"] = (15,10)"
   ]
  },
  {
   "cell_type": "code",
   "execution_count": 279,
   "metadata": {},
   "outputs": [
    {
     "data": {
      "image/png": "[encoded data removed]",
      "text/plain": [
       "<Figure size 1080x720 with 1 Axes>"
      ]
     },
     "metadata": {
      "needs_background": "light"
     },
     "output_type": "display_data"
    }
   ],
   "source": [
    "fig, ax = plt.subplots(1, 1)\n",
    "ax.hist(d_expon,50, density=True)\n",
    "plt.yscale('log')  #semi-log plot to show the ends clearer\n",
    "plt.tick_params(labelsize = 24)\n",
    "plt.xlim([-0.01,0.09])\n",
    "x = np.linspace(-0.01,0.09,1000)\n",
    "ax.plot(x,stats.expon.pdf(x,loc = 0., scale = 0.01),linewidth = 8,alpha = 0.7)\n",
    "plt.show()"
   ]
  },
  {
   "cell_type": "markdown",
   "metadata": {},
   "source": [
    "# 3\n",
    "## A\n",
    "We choose our value to be 0.075."
   ]
  },
  {
   "cell_type": "code",
   "execution_count": 62,
   "metadata": {},
   "outputs": [],
   "source": [
    "#Choose a value\n",
    "hypo_value = 0.075"
   ]
  },
  {
   "cell_type": "markdown",
   "metadata": {},
   "source": [
    "## B\n",
    "**Question:**\n",
    "\n",
    "If there's no signal, and the signal-free data has an exponential distribution, what's the probability that the data produces a signal that's equally or more signal-like than what I observed?"
   ]
  },
  {
   "cell_type": "markdown",
   "metadata": {},
   "source": [
    "## C\n",
    "Prob = $\\int_{0.075}^\\infty \\mathrm{e}^{-x}\\mathrm{d}x$"
   ]
  },
  {
   "cell_type": "markdown",
   "metadata": {},
   "source": [
    "## D"
   ]
  },
  {
   "cell_type": "code",
   "execution_count": 248,
   "metadata": {},
   "outputs": [
    {
     "data": {
      "text/plain": [
       "0.0005530843701478336"
      ]
     },
     "execution_count": 248,
     "metadata": {},
     "output_type": "execute_result"
    }
   ],
   "source": [
    "#We want the probability that's more signal like, so we'll need to integrate in the opposite direction as the cdf, from hypo_value to +inf\n",
    "#sf is (1 - cdf) but sometimes more accurate\n",
    "prob = stats.expon.sf(hypo_value, loc=0., scale=0.01)\n",
    "prob"
   ]
  },
  {
   "cell_type": "markdown",
   "metadata": {},
   "source": [
    "## E"
   ]
  },
  {
   "cell_type": "code",
   "execution_count": 243,
   "metadata": {},
   "outputs": [
    {
     "data": {
      "text/plain": [
       "3.262031441032724"
      ]
     },
     "execution_count": 243,
     "metadata": {},
     "output_type": "execute_result"
    }
   ],
   "source": [
    "#Convert to sigma: use norm ppf\n",
    "sigma_exp = (stats.norm.ppf(prob, loc=0., scale=1))*-1\n",
    "sigma_exp"
   ]
  },
  {
   "cell_type": "markdown",
   "metadata": {},
   "source": [
    "# 4"
   ]
  },
  {
   "cell_type": "code",
   "execution_count": 244,
   "metadata": {},
   "outputs": [
    {
     "name": "stdout",
     "output_type": "stream",
     "text": [
      "0.0820849986238988\n",
      "1.3911828143255687\n"
     ]
    }
   ],
   "source": [
    "#Trying with different values\n",
    "hypo2 = 0.025\n",
    "\n",
    "prob2 = stats.expon.sf(hypo2, loc=0., scale=0.01)\n",
    "print(prob2)\n",
    "sigma_exp2 = (stats.norm.ppf(prob2, loc=0., scale=1))*-1\n",
    "print(sigma_exp2)"
   ]
  },
  {
   "cell_type": "code",
   "execution_count": 245,
   "metadata": {},
   "outputs": [
    {
     "name": "stdout",
     "output_type": "stream",
     "text": [
      "3.059023205018258e-07\n",
      "4.987453103376043\n"
     ]
    }
   ],
   "source": [
    "hypo3 = 0.15\n",
    "\n",
    "prob3 = stats.expon.sf(hypo3, loc=0., scale=0.01)\n",
    "print(prob3)\n",
    "sigma_exp3 = (stats.norm.ppf(prob3, loc=0., scale=1))*-1\n",
    "print(sigma_exp3)"
   ]
  },
  {
   "cell_type": "code",
   "execution_count": 280,
   "metadata": {},
   "outputs": [
    {
     "name": "stdout",
     "output_type": "stream",
     "text": [
      "1.9287498479639178e-22\n",
      "9.674825283612355\n"
     ]
    }
   ],
   "source": [
    "hypo4 = 0.5\n",
    "\n",
    "prob4 = stats.expon.sf(hypo4, loc=0., scale=0.01)\n",
    "print(prob4)\n",
    "sigma_exp4 = (stats.norm.ppf(prob4, loc=0., scale=1))*-1\n",
    "print(sigma_exp4)"
   ]
  },
  {
   "cell_type": "markdown",
   "metadata": {},
   "source": [
    "### Observation:\n",
    "   I found that a larger numerical measurement correspond to a smaller probability and a 'larger' sigma value.\n",
    "   This is because the more extreme our measurement is, the less likely it is for the data to produce a signal that's equally or more signal like than what I would observe when there's no signal and the signal-free data has an exponential distribution."
   ]
  },
  {
   "cell_type": "markdown",
   "metadata": {},
   "source": [
    "# Non-continuous distributions\n",
    "I will be doing the Binomial distribution."
   ]
  },
  {
   "cell_type": "markdown",
   "metadata": {},
   "source": [
    "# A"
   ]
  },
  {
   "cell_type": "markdown",
   "metadata": {},
   "source": [
    "A binomial distribution is a discrete probability distribution of the number of successes of **n** independent experiments with only true-false answers (boolean).\n",
    "    \n",
    "Each experiment have a probability of **p** to be true. (and thus **(1-p)** probability to be false)"
   ]
  },
  {
   "cell_type": "markdown",
   "metadata": {},
   "source": [
    "# B"
   ]
  },
  {
   "cell_type": "code",
   "execution_count": 229,
   "metadata": {},
   "outputs": [
    {
     "data": {
      "image/png": "[encoded data removed]",
      "text/plain": [
       "<Figure size 1080x720 with 1 Axes>"
      ]
     },
     "metadata": {
      "needs_background": "light"
     },
     "output_type": "display_data"
    }
   ],
   "source": [
    "n = 5\n",
    "p = 0.85\n",
    "\n",
    "d_binom = stats.binom.rvs(n, p, size = 100000)\n",
    "\n",
    "fig, ax = plt.subplots(1, 1)\n",
    "ax.hist(d_binom,50, density=True)\n",
    "plt.yscale('log')\n",
    "plt.tick_params(labelsize = 24)\n",
    "plt.xlim([-2,8])\n",
    "x = np.arange(-2,8)\n",
    "ax.step(x,stats.binom.pmf(x, n, p),linewidth = 8,alpha = 0.7)\n",
    "plt.show()"
   ]
  },
  {
   "cell_type": "code",
   "execution_count": 230,
   "metadata": {},
   "outputs": [
    {
     "data": {
      "image/png": "[encoded data removed]",
      "text/plain": [
       "<Figure size 1080x720 with 1 Axes>"
      ]
     },
     "metadata": {
      "needs_background": "light"
     },
     "output_type": "display_data"
    }
   ],
   "source": [
    "n = 10\n",
    "p = 0.50\n",
    "\n",
    "d_binom = stats.binom.rvs(n, p, size = 100000)\n",
    "\n",
    "fig, ax = plt.subplots(1, 1)\n",
    "ax.hist(d_binom,50, density=True)\n",
    "plt.yscale('log')\n",
    "plt.tick_params(labelsize = 24)\n",
    "plt.xlim([-4,14])\n",
    "x = np.arange(-4,14)\n",
    "ax.step(x,stats.binom.pmf(x, n, p, loc = 1),linewidth = 8,alpha = 0.7)\n",
    "plt.show()"
   ]
  },
  {
   "cell_type": "code",
   "execution_count": 239,
   "metadata": {},
   "outputs": [
    {
     "name": "stdout",
     "output_type": "stream",
     "text": [
      "[2.38109454e-04 2.30172472e-03 1.07413820e-02 3.22241460e-02\n",
      " 6.98189831e-02 1.16364972e-01 1.55153296e-01 1.69929800e-01\n",
      " 1.55768983e-01 1.21153654e-01 8.07691025e-02 4.65034227e-02\n",
      " 2.32517113e-02 1.01353614e-02 3.86109004e-03 1.28703001e-03\n",
      " 3.75383754e-04 9.56860549e-05 2.12635678e-05 4.10349553e-06\n",
      " 6.83915922e-07 9.77022746e-08 1.18426999e-08 1.20143333e-09\n",
      " 1.00119444e-10 6.67462960e-12 3.42288697e-13 1.26773592e-14\n",
      " 3.01841885e-16 3.46944695e-18 0.00000000e+00 0.00000000e+00\n",
      " 0.00000000e+00 0.00000000e+00 0.00000000e+00 0.00000000e+00\n",
      " 0.00000000e+00 0.00000000e+00]\n"
     ]
    },
    {
     "data": {
      "image/png": "[encoded data removed]",
      "text/plain": [
       "<Figure size 1080x720 with 1 Axes>"
      ]
     },
     "metadata": {
      "needs_background": "light"
     },
     "output_type": "display_data"
    }
   ],
   "source": [
    "n = 29\n",
    "p = 0.25\n",
    "\n",
    "d_binom = stats.binom.rvs(n, p, size = 100000)\n",
    "\n",
    "fig, ax = plt.subplots(1, 1)\n",
    "ax.hist(d_binom,50, density=True)\n",
    "plt.yscale('log')\n",
    "plt.tick_params(labelsize = 24)\n",
    "plt.xlim([-2,38])\n",
    "x = np.arange(0,38)\n",
    "ax.step(x,stats.binom.pmf(x, n, p),linewidth = 8,alpha = 0.7)\n",
    "print(stats.binom.pmf(x, n, p))\n",
    "plt.show()"
   ]
  },
  {
   "cell_type": "markdown",
   "metadata": {},
   "source": [
    "We can see from the 3 examples above that the binomial distribution function is a stepwise function, with the **n** value determining the endpoint of our functions.\n",
    "\n",
    "The p value determines the relative location of the peak of the function.\n",
    "\n",
    "Unlike the continuous normal and exponential distributions, the curves of binomial distribution describe the histogram much less accurately, under the same sample size (100k)."
   ]
  },
  {
   "cell_type": "markdown",
   "metadata": {},
   "source": [
    "# C"
   ]
  },
  {
   "cell_type": "markdown",
   "metadata": {},
   "source": [
    "**Question**:\n",
    "    Supposed I observed a value 8 If there's no signal, and the signal-free data has an binomial distribution as in the 2nd graph, what's the probability that the data produces a signal that's equally or more signal-like than what I observed?"
   ]
  },
  {
   "cell_type": "markdown",
   "metadata": {},
   "source": [
    "Prob = $\\sum_{k=8}^{10} p_k$"
   ]
  },
  {
   "cell_type": "code",
   "execution_count": 209,
   "metadata": {},
   "outputs": [
    {
     "name": "stdout",
     "output_type": "stream",
     "text": [
      "0.0537109375\n"
     ]
    }
   ],
   "source": [
    "n = 10\n",
    "p = 0.5\n",
    "\n",
    "prob = 0\n",
    "for k in range (8,10):\n",
    "    prob += stats.binom.pmf(k, n, p)\n",
    "print(prob)"
   ]
  },
  {
   "cell_type": "code",
   "execution_count": 214,
   "metadata": {},
   "outputs": [
    {
     "name": "stdout",
     "output_type": "stream",
     "text": [
      "1.6098899884187632\n"
     ]
    }
   ],
   "source": [
    "sigma_binom = (stats.norm.ppf(prob, loc=0., scale=1)) * -1\n",
    "print(sigma_binom)"
   ]
  },
  {
   "cell_type": "markdown",
   "metadata": {},
   "source": [
    "# D"
   ]
  },
  {
   "cell_type": "markdown",
   "metadata": {},
   "source": [
    "The probability integrals become sums for discrete distributions, and sums of discrete values yield discrete probabilties.\n",
    "'Sigmas' also become discrete as 'sigma' has a one-on-one relationship to the probability.\n",
    "\n",
    "Discrete distributions can be used to describe experiments that only yield discrete data. For instance, an quantum experiment involving Spin-1 particles can only yield energies of $-\\hbar$, 0, and $\\hbar$. No values in between are allowed because quantization requires each energy level separated by $\\hbar$."
   ]
  },
  {
   "cell_type": "markdown",
   "metadata": {},
   "source": [
    "## E\n",
    "The mean of a discrete distribution is continuous because the probability *of the experiment itself* **p** can be continuous.\n",
    "\n",
    "For instance, a perfectly symmetrical coin has probability **p = 0.500** to land on heads. But by changing the mass distribution and/or other features of the coin, we could manufacture coins whose p ranges from **any real number** between 0 and 1. The continuous nature of *the experiment's own* probability leads to a continuous mean.\n",
    "\n",
    "Mean change continuously. Probability and 'sigma' change discretely."
   ]
  }
 ],
 "metadata": {
  "kernelspec": {
   "display_name": "Python 3",
   "language": "python",
   "name": "python3"
  },
  "language_info": {
   "codemirror_mode": {
    "name": "ipython",
    "version": 3
   },
   "file_extension": ".py",
   "mimetype": "text/x-python",
   "name": "python",
   "nbconvert_exporter": "python",
   "pygments_lexer": "ipython3",
   "version": "3.7.4"
  }
 },
 "nbformat": 4,
 "nbformat_minor": 4
}
